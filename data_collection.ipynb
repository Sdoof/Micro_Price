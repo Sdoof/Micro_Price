{
 "cells": [
  {
   "cell_type": "code",
   "execution_count": 1,
   "metadata": {},
   "outputs": [
    {
     "name": "stderr",
     "output_type": "stream",
     "text": [
      "Error 321, reqId -1: Error validating request.-'ca' : cause - The API interface is currently in Read-Only mode.\n",
      "completed orders request timed out\n"
     ]
    },
    {
     "data": {
      "text/plain": [
       "<IB connected to 127.0.0.1:7498 clientId=1>"
      ]
     },
     "execution_count": 1,
     "metadata": {},
     "output_type": "execute_result"
    }
   ],
   "source": [
    "from ib_insync import *\n",
    "util.startLoop()\n",
    "\n",
    "ib = IB()\n",
    "ib.connect('127.0.0.1', 7498, 1)  # default port was 7497"
   ]
  },
  {
   "cell_type": "code",
   "execution_count": 11,
   "metadata": {},
   "outputs": [],
   "source": [
    "import pandas as pd\n",
    "import time\n",
    "from datetime import datetime, timedelta, timezone\n",
    "import numpy as np"
   ]
  },
  {
   "cell_type": "code",
   "execution_count": 3,
   "metadata": {},
   "outputs": [
    {
     "name": "stderr",
     "output_type": "stream",
     "text": [
      "Error 354, reqId 3: Requested market data is not subscribed.Delayed market data is available.Error&BEST/STK/Top&BEST/STK/Top, contract: Stock(symbol='SH', exchange='SMART', currency='USD')\n"
     ]
    }
   ],
   "source": [
    "contract1 = Stock('SH', 'SMART', 'USD')\n",
    "ib.reqMktData(contract1, '', False, False)\n",
    "t1 = ib.ticker(contract1)"
   ]
  },
  {
   "cell_type": "code",
   "execution_count": 4,
   "metadata": {},
   "outputs": [],
   "source": [
    "ib.reqMarketDataType( 3 )"
   ]
  },
  {
   "cell_type": "code",
   "execution_count": 21,
   "metadata": {},
   "outputs": [],
   "source": [
    "def read_two_tick_prices(stock1, stock2, minutes):\n",
    "    contract1 = Stock(stock1, 'SMART', 'USD')\n",
    "    ib.reqMktData(contract1, '', False, False)\n",
    "    \n",
    "    contract2 = Stock(stock2, 'SMART', 'USD')\n",
    "    ib.reqMktData(contract2, '', False, False)\n",
    "\n",
    "    t1 = ib.ticker(contract1)\n",
    "    t2 = ib.ticker(contract2)\n",
    "    ib.sleep(0.06)\n",
    "    \n",
    "    data = []\n",
    "    pre_row_data = None\n",
    "    \n",
    "    t_start = time.time()\n",
    "    t_end = t_start + 60 * minutes\n",
    "    print(datetime.now())\n",
    "    \n",
    "    while time.time() < t_end:\n",
    "        ib.sleep(0)\n",
    "        row_data = [t1.bid, t1.bidSize,t1.ask, t1.askSize, t2.bid, t2.bidSize,  t2.ask, t2.askSize]\n",
    "        if row_data != pre_row_data:\n",
    "            row_time = t1.time.replace(tzinfo=timezone.utc).astimezone(tz=None)\n",
    "            row = [row_time] + row_data\n",
    "            data.append(row)\n",
    "            pre_row_data = row_data\n",
    "        else:\n",
    "            pass\n",
    "    \n",
    "    return pd.DataFrame(data, columns=['time', 'bid1', 'bid_size1', 'ask1', 'ask_size1', 'bid2', 'bid_size2', 'ask2', 'ask_size2'])"
   ]
  },
  {
   "cell_type": "code",
   "execution_count": 24,
   "metadata": {},
   "outputs": [
    {
     "name": "stdout",
     "output_type": "stream",
     "text": [
      "Wall time: 0 ns\n",
      "2021-02-19 11:26:40.629531\n"
     ]
    }
   ],
   "source": [
    "%time\n",
    "df = read_two_tick_prices('SH', 'SDS', 300)\n",
    "df.to_csv('SH_SDS_data.csv')"
   ]
  },
  {
   "cell_type": "code",
   "execution_count": 26,
   "metadata": {},
   "outputs": [],
   "source": [
    "ib.disconnect()"
   ]
  }
 ],
 "metadata": {
  "kernelspec": {
   "display_name": "Python 3",
   "language": "python",
   "name": "python3"
  },
  "language_info": {
   "codemirror_mode": {
    "name": "ipython",
    "version": 3
   },
   "file_extension": ".py",
   "mimetype": "text/x-python",
   "name": "python",
   "nbconvert_exporter": "python",
   "pygments_lexer": "ipython3",
   "version": "3.7.4"
  }
 },
 "nbformat": 4,
 "nbformat_minor": 2
}
