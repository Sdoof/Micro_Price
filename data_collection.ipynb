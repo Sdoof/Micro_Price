{
 "cells": [
  {
   "cell_type": "code",
   "execution_count": 1,
   "metadata": {},
   "outputs": [
    {
     "name": "stderr",
     "output_type": "stream",
     "text": [
      "Error 321, reqId -1: Error validating request.-'ca' : cause - The API interface is currently in Read-Only mode.\n",
      "completed orders request timed out\n"
     ]
    },
    {
     "data": {
      "text/plain": [
       "<IB connected to 127.0.0.1:7497 clientId=1>"
      ]
     },
     "execution_count": 1,
     "metadata": {},
     "output_type": "execute_result"
    }
   ],
   "source": [
    "from ib_insync import *\n",
    "util.startLoop()\n",
    "\n",
    "ib = IB()\n",
    "ib.connect('127.0.0.1', 7497, 1)"
   ]
  },
  {
   "cell_type": "code",
   "execution_count": 2,
   "metadata": {},
   "outputs": [],
   "source": [
    "import pandas as pd\n",
    "import time"
   ]
  },
  {
   "cell_type": "code",
   "execution_count": 5,
   "metadata": {},
   "outputs": [
    {
     "name": "stderr",
     "output_type": "stream",
     "text": [
      "Error 354, reqId 5: Requested market data is not subscribed.Delayed market data is available.Error&BEST/STK/Top&BEST/STK/Top, contract: Stock(symbol='SH', exchange='SMART', currency='USD')\n"
     ]
    }
   ],
   "source": [
    "contract1 = Stock('SH', 'SMART', 'USD')\n",
    "ib.reqMktData(contract1, '', False, False)\n",
    "t1 = ib.ticker(contract1)"
   ]
  },
  {
   "cell_type": "code",
   "execution_count": 6,
   "metadata": {},
   "outputs": [],
   "source": [
    "ib.reqMarketDataType( 3 )"
   ]
  },
  {
   "cell_type": "code",
   "execution_count": 3,
   "metadata": {},
   "outputs": [],
   "source": [
    "def read_two_tick_prices(stock1, stock2, minutes):\n",
    "    contract1 = Stock(stock1, 'SMART', 'USD')\n",
    "    ib.reqMktData(contract1, '', False, False)\n",
    "    \n",
    "    contract2 = Stock(stock2, 'SMART', 'USD')\n",
    "    ib.reqMktData(contract2, '', False, False)\n",
    "\n",
    "    t1 = ib.ticker(contract1)\n",
    "    t2 = ib.ticker(contract2)\n",
    "    ib.sleep(2)\n",
    "    \n",
    "    data = []\n",
    "    pre_row_data = None\n",
    "    \n",
    "    t_start = time.time()\n",
    "    t_end = t_start + 60 * minutes\n",
    "    print(datetime.now())\n",
    "    \n",
    "    while time.time() < t_end:\n",
    "        ib.sleep(0.05)\n",
    "        row_data = [t1.bid, t1.bidSize,t1.ask, t1.askSize, t2.bid, t2.bidSize,  t2.ask, t2.askSize]\n",
    "        if row_data != pre_row_data:\n",
    "            row_time = t1.time.replace(tzinfo=timezone.utc).astimezone(tz=None)\n",
    "            row = [row_time] + row_data\n",
    "            data.append(row)\n",
    "            pre_row_data = row_data\n",
    "        else:\n",
    "            pass\n",
    "    \n",
    "    return pd.DataFrame(data, columns=['time', 'bid1', 'bid_size1', 'ask1', 'ask_size1', 'bid2', 'bid_size2', 'ask2', 'ask_size2'])"
   ]
  },
  {
   "cell_type": "code",
   "execution_count": 7,
   "metadata": {},
   "outputs": [
    {
     "name": "stdout",
     "output_type": "stream",
     "text": [
      "Wall time: 0 ns\n",
      "2020-12-03 09:49:50.199931\n"
     ]
    }
   ],
   "source": [
    "%time\n",
    "df = read_two_tick_prices('SH', 'SDS', 360)\n",
    "df.to_csv('SH_SDS_data.csv')"
   ]
  },
  {
   "cell_type": "code",
   "execution_count": 9,
   "metadata": {},
   "outputs": [],
   "source": [
    "ib.disconnect()"
   ]
  },
  {
   "cell_type": "code",
   "execution_count": 8,
   "metadata": {},
   "outputs": [
    {
     "data": {
      "text/html": [
       "<div>\n",
       "<style scoped>\n",
       "    .dataframe tbody tr th:only-of-type {\n",
       "        vertical-align: middle;\n",
       "    }\n",
       "\n",
       "    .dataframe tbody tr th {\n",
       "        vertical-align: top;\n",
       "    }\n",
       "\n",
       "    .dataframe thead th {\n",
       "        text-align: right;\n",
       "    }\n",
       "</style>\n",
       "<table border=\"1\" class=\"dataframe\">\n",
       "  <thead>\n",
       "    <tr style=\"text-align: right;\">\n",
       "      <th></th>\n",
       "      <th>time</th>\n",
       "      <th>bid1</th>\n",
       "      <th>bid_size1</th>\n",
       "      <th>ask1</th>\n",
       "      <th>ask_size1</th>\n",
       "      <th>bid2</th>\n",
       "      <th>bid_size2</th>\n",
       "      <th>ask2</th>\n",
       "      <th>ask_size2</th>\n",
       "    </tr>\n",
       "  </thead>\n",
       "  <tbody>\n",
       "    <tr>\n",
       "      <th>0</th>\n",
       "      <td>2020-12-03 09:49:49.496299-05:00</td>\n",
       "      <td>18.41</td>\n",
       "      <td>5057</td>\n",
       "      <td>18.42</td>\n",
       "      <td>11263</td>\n",
       "      <td>13.01</td>\n",
       "      <td>1588</td>\n",
       "      <td>13.02</td>\n",
       "      <td>2007</td>\n",
       "    </tr>\n",
       "    <tr>\n",
       "      <th>1</th>\n",
       "      <td>2020-12-03 09:49:50.499130-05:00</td>\n",
       "      <td>18.41</td>\n",
       "      <td>4631</td>\n",
       "      <td>18.42</td>\n",
       "      <td>11366</td>\n",
       "      <td>13.01</td>\n",
       "      <td>1576</td>\n",
       "      <td>13.02</td>\n",
       "      <td>2045</td>\n",
       "    </tr>\n",
       "    <tr>\n",
       "      <th>2</th>\n",
       "      <td>2020-12-03 09:50:00.518556-05:00</td>\n",
       "      <td>18.41</td>\n",
       "      <td>5562</td>\n",
       "      <td>18.42</td>\n",
       "      <td>11286</td>\n",
       "      <td>13.01</td>\n",
       "      <td>1728</td>\n",
       "      <td>13.02</td>\n",
       "      <td>1879</td>\n",
       "    </tr>\n",
       "    <tr>\n",
       "      <th>3</th>\n",
       "      <td>2020-12-03 09:50:10.581464-05:00</td>\n",
       "      <td>18.40</td>\n",
       "      <td>14666</td>\n",
       "      <td>18.41</td>\n",
       "      <td>244</td>\n",
       "      <td>13.01</td>\n",
       "      <td>1820</td>\n",
       "      <td>13.02</td>\n",
       "      <td>1506</td>\n",
       "    </tr>\n",
       "    <tr>\n",
       "      <th>4</th>\n",
       "      <td>2020-12-03 09:50:19.612368-05:00</td>\n",
       "      <td>18.41</td>\n",
       "      <td>8151</td>\n",
       "      <td>18.42</td>\n",
       "      <td>11729</td>\n",
       "      <td>13.01</td>\n",
       "      <td>1820</td>\n",
       "      <td>13.02</td>\n",
       "      <td>1506</td>\n",
       "    </tr>\n",
       "    <tr>\n",
       "      <th>...</th>\n",
       "      <td>...</td>\n",
       "      <td>...</td>\n",
       "      <td>...</td>\n",
       "      <td>...</td>\n",
       "      <td>...</td>\n",
       "      <td>...</td>\n",
       "      <td>...</td>\n",
       "      <td>...</td>\n",
       "      <td>...</td>\n",
       "    </tr>\n",
       "    <tr>\n",
       "      <th>2583</th>\n",
       "      <td>2020-12-03 15:49:09.138292-05:00</td>\n",
       "      <td>18.36</td>\n",
       "      <td>11324</td>\n",
       "      <td>18.37</td>\n",
       "      <td>6166</td>\n",
       "      <td>12.95</td>\n",
       "      <td>1992</td>\n",
       "      <td>12.96</td>\n",
       "      <td>2855</td>\n",
       "    </tr>\n",
       "    <tr>\n",
       "      <th>2584</th>\n",
       "      <td>2020-12-03 15:49:18.978898-05:00</td>\n",
       "      <td>18.36</td>\n",
       "      <td>10905</td>\n",
       "      <td>18.37</td>\n",
       "      <td>6233</td>\n",
       "      <td>12.95</td>\n",
       "      <td>1557</td>\n",
       "      <td>12.96</td>\n",
       "      <td>3035</td>\n",
       "    </tr>\n",
       "    <tr>\n",
       "      <th>2585</th>\n",
       "      <td>2020-12-03 15:49:28.996096-05:00</td>\n",
       "      <td>18.36</td>\n",
       "      <td>11367</td>\n",
       "      <td>18.37</td>\n",
       "      <td>6266</td>\n",
       "      <td>12.95</td>\n",
       "      <td>2087</td>\n",
       "      <td>12.96</td>\n",
       "      <td>2692</td>\n",
       "    </tr>\n",
       "    <tr>\n",
       "      <th>2586</th>\n",
       "      <td>2020-12-03 15:49:39.038233-05:00</td>\n",
       "      <td>18.36</td>\n",
       "      <td>11664</td>\n",
       "      <td>18.37</td>\n",
       "      <td>2841</td>\n",
       "      <td>12.95</td>\n",
       "      <td>2583</td>\n",
       "      <td>12.96</td>\n",
       "      <td>2015</td>\n",
       "    </tr>\n",
       "    <tr>\n",
       "      <th>2587</th>\n",
       "      <td>2020-12-03 15:49:49.073615-05:00</td>\n",
       "      <td>18.37</td>\n",
       "      <td>7570</td>\n",
       "      <td>18.38</td>\n",
       "      <td>12523</td>\n",
       "      <td>12.95</td>\n",
       "      <td>3269</td>\n",
       "      <td>12.96</td>\n",
       "      <td>795</td>\n",
       "    </tr>\n",
       "  </tbody>\n",
       "</table>\n",
       "<p>2588 rows × 9 columns</p>\n",
       "</div>"
      ],
      "text/plain": [
       "                                 time   bid1  bid_size1   ask1  ask_size1  \\\n",
       "0    2020-12-03 09:49:49.496299-05:00  18.41       5057  18.42      11263   \n",
       "1    2020-12-03 09:49:50.499130-05:00  18.41       4631  18.42      11366   \n",
       "2    2020-12-03 09:50:00.518556-05:00  18.41       5562  18.42      11286   \n",
       "3    2020-12-03 09:50:10.581464-05:00  18.40      14666  18.41        244   \n",
       "4    2020-12-03 09:50:19.612368-05:00  18.41       8151  18.42      11729   \n",
       "...                               ...    ...        ...    ...        ...   \n",
       "2583 2020-12-03 15:49:09.138292-05:00  18.36      11324  18.37       6166   \n",
       "2584 2020-12-03 15:49:18.978898-05:00  18.36      10905  18.37       6233   \n",
       "2585 2020-12-03 15:49:28.996096-05:00  18.36      11367  18.37       6266   \n",
       "2586 2020-12-03 15:49:39.038233-05:00  18.36      11664  18.37       2841   \n",
       "2587 2020-12-03 15:49:49.073615-05:00  18.37       7570  18.38      12523   \n",
       "\n",
       "       bid2  bid_size2   ask2  ask_size2  \n",
       "0     13.01       1588  13.02       2007  \n",
       "1     13.01       1576  13.02       2045  \n",
       "2     13.01       1728  13.02       1879  \n",
       "3     13.01       1820  13.02       1506  \n",
       "4     13.01       1820  13.02       1506  \n",
       "...     ...        ...    ...        ...  \n",
       "2583  12.95       1992  12.96       2855  \n",
       "2584  12.95       1557  12.96       3035  \n",
       "2585  12.95       2087  12.96       2692  \n",
       "2586  12.95       2583  12.96       2015  \n",
       "2587  12.95       3269  12.96        795  \n",
       "\n",
       "[2588 rows x 9 columns]"
      ]
     },
     "execution_count": 8,
     "metadata": {},
     "output_type": "execute_result"
    }
   ],
   "source": [
    "df"
   ]
  },
  {
   "cell_type": "code",
   "execution_count": null,
   "metadata": {},
   "outputs": [],
   "source": []
  }
 ],
 "metadata": {
  "kernelspec": {
   "display_name": "Python 3",
   "language": "python",
   "name": "python3"
  },
  "language_info": {
   "codemirror_mode": {
    "name": "ipython",
    "version": 3
   },
   "file_extension": ".py",
   "mimetype": "text/x-python",
   "name": "python",
   "nbconvert_exporter": "python",
   "pygments_lexer": "ipython3",
   "version": "3.7.4"
  }
 },
 "nbformat": 4,
 "nbformat_minor": 2
}
